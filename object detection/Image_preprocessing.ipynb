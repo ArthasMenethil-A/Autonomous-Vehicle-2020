{
 "cells": [
  {
   "cell_type": "markdown",
   "id": "2fef7b00",
   "metadata": {},
   "source": [
    "# 1. Import Dependencies"
   ]
  },
  {
   "cell_type": "code",
   "execution_count": 27,
   "id": "89c25ba6",
   "metadata": {},
   "outputs": [
    {
     "name": "stdout",
     "output_type": "stream",
     "text": [
      "Requirement already satisfied: opencv-python in c:\\tensor_flow_object_detection\\tfodcourse-main\\virtualenv\\lib\\site-packages (4.6.0.66)\n",
      "Requirement already satisfied: numpy>=1.21.2 in c:\\tensor_flow_object_detection\\tfodcourse-main\\virtualenv\\lib\\site-packages (from opencv-python) (1.23.1)\n"
     ]
    }
   ],
   "source": [
    "!pip install opencv-python"
   ]
  },
  {
   "cell_type": "code",
   "execution_count": 28,
   "id": "2e0a998c",
   "metadata": {},
   "outputs": [],
   "source": [
    "# Import opencv\n",
    "import cv2 \n",
    "\n",
    "# Import uuid\n",
    "import uuid\n",
    "\n",
    "# Import Operating System\n",
    "import os\n",
    "\n",
    "# Import time\n",
    "import time"
   ]
  },
  {
   "cell_type": "code",
   "execution_count": 29,
   "id": "e79a448a",
   "metadata": {},
   "outputs": [
    {
     "name": "stdout",
     "output_type": "stream",
     "text": [
      "Requirement already satisfied: pyqt5 in c:\\tensor_flow_object_detection\\tfodcourse-main\\virtualenv\\lib\\site-packages (5.15.7)\n",
      "Requirement already satisfied: lxml in c:\\tensor_flow_object_detection\\tfodcourse-main\\virtualenv\\lib\\site-packages (4.9.1)\n",
      "Requirement already satisfied: PyQt5-sip<13,>=12.11 in c:\\tensor_flow_object_detection\\tfodcourse-main\\virtualenv\\lib\\site-packages (from pyqt5) (12.11.0)\n",
      "Requirement already satisfied: PyQt5-Qt5>=5.15.0 in c:\\tensor_flow_object_detection\\tfodcourse-main\\virtualenv\\lib\\site-packages (from pyqt5) (5.15.2)\n"
     ]
    }
   ],
   "source": [
    "!pip install --upgrade pyqt5 lxml"
   ]
  },
  {
   "cell_type": "code",
   "execution_count": 30,
   "id": "7a385a52",
   "metadata": {},
   "outputs": [],
   "source": [
    "# making the labling path to be: \\TFODCourse-main\\Tensorflow\\labelimg\n",
    "\n",
    "LABELIMG_PATH = os.path.join('Tensorflow', 'labelimg')"
   ]
  },
  {
   "cell_type": "code",
   "execution_count": 31,
   "id": "d8e32c63",
   "metadata": {},
   "outputs": [],
   "source": [
    "# this part is for cloning a github repo. that helps to label the data \n",
    "# (aka make boxes around objects and labeling those boxes as specific objects)\n",
    "\n",
    "if not os.path.exists(LABELIMG_PATH):\n",
    "    !mkdir {LABELIMG_PATH}\n",
    "    !git clone https://github.com/tzutalin/labelImg {LABELIMG_PATH}"
   ]
  },
  {
   "cell_type": "code",
   "execution_count": 32,
   "id": "f47c5441",
   "metadata": {},
   "outputs": [],
   "source": [
    "# this will install the package of labeling with the default and recommended settings \n",
    "\n",
    "if os.name == 'posix':\n",
    "    !make qt5py3\n",
    "if os.name =='nt':\n",
    "    !cd {LABELIMG_PATH} && pyrcc5 -o libs/resources.py resources.qrc"
   ]
  },
  {
   "cell_type": "code",
   "execution_count": 35,
   "id": "2932520a",
   "metadata": {},
   "outputs": [],
   "source": [
    "# this'll open up the application of labeling\n",
    "\n",
    "!cd {LABELIMG_PATH} && python labelImg.py"
   ]
  },
  {
   "cell_type": "code",
   "execution_count": 34,
   "id": "618dd296",
   "metadata": {},
   "outputs": [],
   "source": [
    "# now move them into train and test folders manually"
   ]
  },
  {
   "cell_type": "code",
   "execution_count": null,
   "id": "764bb60e",
   "metadata": {},
   "outputs": [],
   "source": []
  },
  {
   "cell_type": "code",
   "execution_count": null,
   "id": "412566ee",
   "metadata": {},
   "outputs": [],
   "source": []
  }
 ],
 "metadata": {
  "kernelspec": {
   "display_name": "VirtualEnv",
   "language": "python",
   "name": "virtualenv"
  },
  "language_info": {
   "codemirror_mode": {
    "name": "ipython",
    "version": 3
   },
   "file_extension": ".py",
   "mimetype": "text/x-python",
   "name": "python",
   "nbconvert_exporter": "python",
   "pygments_lexer": "ipython3",
   "version": "3.10.4"
  }
 },
 "nbformat": 4,
 "nbformat_minor": 5
}
