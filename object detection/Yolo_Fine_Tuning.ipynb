{
 "cells": [
  {
   "cell_type": "markdown",
   "id": "68c6c579",
   "metadata": {},
   "source": [
    "# Import Dependencies and yolo Model"
   ]
  },
  {
   "cell_type": "code",
   "execution_count": null,
   "id": "7c3ea8ab",
   "metadata": {},
   "outputs": [],
   "source": [
    "import torch\n",
    "import cv2\n",
    "import numpy as np \n",
    "torch.cuda.empty_cache()"
   ]
  },
  {
   "cell_type": "code",
   "execution_count": null,
   "id": "5168cc04",
   "metadata": {},
   "outputs": [],
   "source": [
    "!git clone https://github.com/ultralytics/yolov5"
   ]
  },
  {
   "cell_type": "code",
   "execution_count": null,
   "id": "6f393dc8",
   "metadata": {},
   "outputs": [],
   "source": [
    "model = torch.hub.load('ultralytics/yolov5', 'yolov5s') # loading the model "
   ]
  },
  {
   "cell_type": "markdown",
   "id": "f14d44a5",
   "metadata": {},
   "source": [
    "# Camera Access and Real-Time Object Detection "
   ]
  },
  {
   "cell_type": "code",
   "execution_count": null,
   "id": "8a6d7faf",
   "metadata": {},
   "outputs": [],
   "source": [
    "cap = cv2.VideoCapture(0) # accessing webcam\n",
    "\n",
    "if not cap.isOpened():    # checking if webcam is open\n",
    "    raise IOError(\"cannot open webcam\")\n",
    "\n",
    "while True:               # loop over frames recieved from webcam\n",
    "    ret, frame = cap.read()\n",
    "    frame = cv2.resize(frame, None, fx=0.5, fy=0.5, interpolation=cv2.INTER_AREA)\n",
    "    frame = np.squeeze(model(frame).render()) # using model on frame for OD\n",
    "    cv2.imshow('Input', frame)                # rendering frame\n",
    "\n",
    "    c = cv2.waitKey(1)\n",
    "    if c == 27:                               # if esc key is pushed, then break the loop\n",
    "        break\n",
    "\n",
    "cap.release()\n",
    "cv2.destroyAllWindows()"
   ]
  },
  {
   "cell_type": "markdown",
   "id": "da9b1ce0",
   "metadata": {},
   "source": [
    "# Labeling Dataset"
   ]
  },
  {
   "cell_type": "code",
   "execution_count": null,
   "id": "7681943a",
   "metadata": {},
   "outputs": [],
   "source": [
    "import uuid # unique identifier \n",
    "import os \n",
    "import time "
   ]
  },
  {
   "cell_type": "code",
   "execution_count": null,
   "id": "14bb9811",
   "metadata": {},
   "outputs": [],
   "source": [
    "!git clone https://github.com/tzutalin/labelImg"
   ]
  },
  {
   "cell_type": "code",
   "execution_count": null,
   "id": "9ded8643",
   "metadata": {},
   "outputs": [],
   "source": [
    "!pip install pyqt5 lxml --upgrade\n",
    "!cd labelImg && pyrcc5 -o libs/resources.py resources.qrc\n",
    "!cd labelImg && python labelImg.py"
   ]
  },
  {
   "cell_type": "markdown",
   "id": "0ba4316a",
   "metadata": {},
   "source": [
    "# Making your Custom model"
   ]
  },
  {
   "cell_type": "code",
   "execution_count": null,
   "id": "010b9454",
   "metadata": {},
   "outputs": [],
   "source": [
    "# the things need to be changed are number of images, number of batches, \n",
    "# number of epochs, the dataset.yml file, number of workers \n",
    "# (all according to your best interest)\n",
    "!cd yolov5 && python train.py --img 775 --batch 4 --epochs 100 --data dataset.yml --weights yolov5s.pt --workers 1"
   ]
  },
  {
   "cell_type": "code",
   "execution_count": null,
   "id": "f09384c9",
   "metadata": {},
   "outputs": [],
   "source": [
    "# loading the model\n",
    "# the 'path' argument needs to be adjusted to where your weight file is\n",
    "model = torch.hub.load('ultralytics/yolov5', 'custom', path='yolov5/runs/train/exp6/weights/last.pt', force_reload=True)"
   ]
  },
  {
   "cell_type": "code",
   "execution_count": null,
   "id": "80dcfdb3",
   "metadata": {},
   "outputs": [],
   "source": [
    "cap = cv2.VideoCapture(0)\n",
    "\n",
    "if not cap.isOpened():\n",
    "    raise IOError(\"cannot open webcam\")\n",
    "\n",
    "while True: \n",
    "    ret, frame = cap.read()\n",
    "    frame = cv2.resize(frame, None, fx=0.5, fy=0.5, interpolation=cv2.INTER_AREA)\n",
    "    frame = np.squeeze(model(frame).render())\n",
    "    cv2.imshow('Input', frame)\n",
    "\n",
    "    c = cv2.waitKey(1)\n",
    "    if c == 27:\n",
    "        break\n",
    "\n",
    "cap.release()\n",
    "cv2.destroyAllWindows()"
   ]
  }
 ],
 "metadata": {
  "kernelspec": {
   "display_name": "gpu",
   "language": "python",
   "name": "gpu"
  },
  "language_info": {
   "codemirror_mode": {
    "name": "ipython",
    "version": 3
   },
   "file_extension": ".py",
   "mimetype": "text/x-python",
   "name": "python",
   "nbconvert_exporter": "python",
   "pygments_lexer": "ipython3",
   "version": "3.10.4"
  }
 },
 "nbformat": 4,
 "nbformat_minor": 5
}
